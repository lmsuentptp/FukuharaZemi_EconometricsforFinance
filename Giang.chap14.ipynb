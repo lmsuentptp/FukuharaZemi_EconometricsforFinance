{
 "cells": [
  {
   "cell_type": "code",
   "execution_count": 2,
   "id": "8280c0bc",
   "metadata": {},
   "outputs": [],
   "source": [
    "import yfinance as yf\n",
    "import pandas as pd\n",
    "import statsmodels.api as sm"
   ]
  },
  {
   "cell_type": "code",
   "execution_count": 3,
   "id": "8581f5f8",
   "metadata": {},
   "outputs": [
    {
     "name": "stdout",
     "output_type": "stream",
     "text": [
      "[*********************100%%**********************]  1 of 1 completed\n",
      "[*********************100%%**********************]  1 of 1 completed\n",
      "[*********************100%%**********************]  1 of 1 completed\n",
      "[*********************100%%**********************]  1 of 1 completed\n",
      "[*********************100%%**********************]  1 of 1 completed\n",
      "[*********************100%%**********************]  1 of 1 completed\n"
     ]
    }
   ],
   "source": [
    "# Define stock tickers for the automobile industry\n",
    "stocks = ['TSLA', 'GM', 'F', 'TM', 'HMC']\n",
    "\n",
    "# Define time period for analysis\n",
    "start_date = '2020-01-01'\n",
    "end_date = '2023-11-01'  # Replace with the current date as required\n",
    "\n",
    "# Function to get daily returns for each stock\n",
    "def get_daily_returns(ticker):\n",
    "    stock_data = yf.download(ticker, start=start_date, end=end_date)\n",
    "    daily_returns = stock_data['Adj Close'].pct_change()\n",
    "    return daily_returns\n",
    "\n",
    "# Collect daily returns for each stock\n",
    "stock_returns = {stock: get_daily_returns(stock) for stock in stocks}\n",
    "stock_returns_df = pd.DataFrame(stock_returns)\n",
    "\n",
    "# Get daily risk-free rate (^IRX), converting it to a daily percentage\n",
    "risk_free_rate_data = yf.download('^IRX', start=start_date, end=end_date)['Adj Close']\n",
    "risk_free_rate = risk_free_rate_data / 365 / 100  # Convert to daily percentage\n",
    "\n",
    "# Calculate excess returns for each stock\n",
    "excess_returns_df = stock_returns_df.sub(risk_free_rate, axis=0)"
   ]
  },
  {
   "cell_type": "code",
   "execution_count": 4,
   "id": "0f85f699",
   "metadata": {},
   "outputs": [],
   "source": [
    "from datetime import datetime"
   ]
  },
  {
   "cell_type": "code",
   "execution_count": 5,
   "id": "7b3cd692",
   "metadata": {
    "scrolled": false
   },
   "outputs": [],
   "source": [
    "# Define a date parser function that handles 'nan' and incorrect date formats\n",
    "def parse_dates(date):\n",
    "    try:\n",
    "        return datetime.strptime(str(date), '%Y%m%d')\n",
    "    except (ValueError, TypeError):\n",
    "        return pd.NaT  # Return Not-a-Time for errors\n",
    "\n",
    "# Load the Fama-French factors daily data\n",
    "fama_french_factors_df = pd.read_csv(\n",
    "    'C:/Users/HHGiang/Documents/KEIO/3FZ/FFdaily.csv', \n",
    "    parse_dates=['Date'], \n",
    "    date_parser=parse_dates,\n",
    "    index_col='Date'\n",
    ")\n",
    "\n",
    "# Your existing code for excess_returns_df should be before this point\n",
    "\n",
    "# Merge the excess returns with Fama-French daily factors\n",
    "merged_data = pd.merge(excess_returns_df, fama_french_factors_df, left_index=True, right_index=True, how='inner')"
   ]
  },
  {
   "cell_type": "code",
   "execution_count": 6,
   "id": "aa6667b4",
   "metadata": {},
   "outputs": [
    {
     "data": {
      "text/html": [
       "<div>\n",
       "<style scoped>\n",
       "    .dataframe tbody tr th:only-of-type {\n",
       "        vertical-align: middle;\n",
       "    }\n",
       "\n",
       "    .dataframe tbody tr th {\n",
       "        vertical-align: top;\n",
       "    }\n",
       "\n",
       "    .dataframe thead th {\n",
       "        text-align: right;\n",
       "    }\n",
       "</style>\n",
       "<table border=\"1\" class=\"dataframe\">\n",
       "  <thead>\n",
       "    <tr style=\"text-align: right;\">\n",
       "      <th></th>\n",
       "      <th>TSLA</th>\n",
       "      <th>GM</th>\n",
       "      <th>F</th>\n",
       "      <th>TM</th>\n",
       "      <th>HMC</th>\n",
       "      <th>Mkt-RF</th>\n",
       "      <th>SMB</th>\n",
       "      <th>HML</th>\n",
       "      <th>RF</th>\n",
       "    </tr>\n",
       "    <tr>\n",
       "      <th>Date</th>\n",
       "      <th></th>\n",
       "      <th></th>\n",
       "      <th></th>\n",
       "      <th></th>\n",
       "      <th></th>\n",
       "      <th></th>\n",
       "      <th></th>\n",
       "      <th></th>\n",
       "      <th></th>\n",
       "    </tr>\n",
       "  </thead>\n",
       "  <tbody>\n",
       "    <tr>\n",
       "      <th>2020-01-02</th>\n",
       "      <td>NaN</td>\n",
       "      <td>NaN</td>\n",
       "      <td>NaN</td>\n",
       "      <td>NaN</td>\n",
       "      <td>NaN</td>\n",
       "      <td>0.86</td>\n",
       "      <td>-0.88</td>\n",
       "      <td>-0.34</td>\n",
       "      <td>0.006</td>\n",
       "    </tr>\n",
       "    <tr>\n",
       "      <th>2020-01-03</th>\n",
       "      <td>0.029593</td>\n",
       "      <td>-0.028398</td>\n",
       "      <td>-0.022333</td>\n",
       "      <td>-0.010516</td>\n",
       "      <td>-0.017848</td>\n",
       "      <td>-0.67</td>\n",
       "      <td>0.38</td>\n",
       "      <td>0.00</td>\n",
       "      <td>0.006</td>\n",
       "    </tr>\n",
       "    <tr>\n",
       "      <th>2020-01-06</th>\n",
       "      <td>0.019214</td>\n",
       "      <td>-0.013257</td>\n",
       "      <td>-0.005470</td>\n",
       "      <td>0.000101</td>\n",
       "      <td>-0.002885</td>\n",
       "      <td>0.36</td>\n",
       "      <td>-0.07</td>\n",
       "      <td>-0.55</td>\n",
       "      <td>0.006</td>\n",
       "    </tr>\n",
       "    <tr>\n",
       "      <th>2020-01-07</th>\n",
       "      <td>0.038759</td>\n",
       "      <td>-0.019293</td>\n",
       "      <td>0.009784</td>\n",
       "      <td>0.005216</td>\n",
       "      <td>0.005663</td>\n",
       "      <td>-0.19</td>\n",
       "      <td>-0.01</td>\n",
       "      <td>-0.25</td>\n",
       "      <td>0.006</td>\n",
       "    </tr>\n",
       "    <tr>\n",
       "      <th>2020-01-08</th>\n",
       "      <td>0.049164</td>\n",
       "      <td>-0.014266</td>\n",
       "      <td>-0.000041</td>\n",
       "      <td>-0.002514</td>\n",
       "      <td>-0.002877</td>\n",
       "      <td>0.47</td>\n",
       "      <td>-0.06</td>\n",
       "      <td>-0.64</td>\n",
       "      <td>0.006</td>\n",
       "    </tr>\n",
       "  </tbody>\n",
       "</table>\n",
       "</div>"
      ],
      "text/plain": [
       "                TSLA        GM         F        TM       HMC  Mkt-RF   SMB  \\\n",
       "Date                                                                         \n",
       "2020-01-02       NaN       NaN       NaN       NaN       NaN    0.86 -0.88   \n",
       "2020-01-03  0.029593 -0.028398 -0.022333 -0.010516 -0.017848   -0.67  0.38   \n",
       "2020-01-06  0.019214 -0.013257 -0.005470  0.000101 -0.002885    0.36 -0.07   \n",
       "2020-01-07  0.038759 -0.019293  0.009784  0.005216  0.005663   -0.19 -0.01   \n",
       "2020-01-08  0.049164 -0.014266 -0.000041 -0.002514 -0.002877    0.47 -0.06   \n",
       "\n",
       "             HML     RF  \n",
       "Date                     \n",
       "2020-01-02 -0.34  0.006  \n",
       "2020-01-03  0.00  0.006  \n",
       "2020-01-06 -0.55  0.006  \n",
       "2020-01-07 -0.25  0.006  \n",
       "2020-01-08 -0.64  0.006  "
      ]
     },
     "execution_count": 6,
     "metadata": {},
     "output_type": "execute_result"
    }
   ],
   "source": [
    "merged_data.head()"
   ]
  },
  {
   "cell_type": "code",
   "execution_count": 7,
   "id": "e5292064",
   "metadata": {},
   "outputs": [
    {
     "name": "stdout",
     "output_type": "stream",
     "text": [
      "            TSLA        GM         F        TM       HMC\n",
      "const   0.002423 -0.000307  0.000190  0.000070  0.000010\n",
      "SMB     0.007950  0.006481  0.005983  0.000227  0.001177\n",
      "HML    -0.008004  0.006755  0.006437  0.001637  0.003114\n",
      "Mkt-RF  0.014486  0.012376  0.011730  0.006535  0.007477\n"
     ]
    }
   ],
   "source": [
    "# Perform the first stage of Fama-MacBeth regression for each stock\n",
    "betas = {}\n",
    "for stock in stocks:\n",
    "    y = merged_data[stock]  # Excess returns for the stock\n",
    "    X = merged_data[['SMB', 'HML', 'Mkt-RF']]  # Fama-French factors\n",
    "    X = sm.add_constant(X)  # Add a constant term for the regression intercept\n",
    "\n",
    "    model = sm.OLS(y, X, missing='drop').fit()  # Drop any missing values\n",
    "    betas[stock] = model.params  # Save the beta coefficients\n",
    "\n",
    "# Convert betas dictionary to a DataFrame\n",
    "betas_df = pd.DataFrame(betas)\n",
    "print(betas_df.head())"
   ]
  },
  {
   "cell_type": "code",
   "execution_count": 8,
   "id": "caa5c039",
   "metadata": {},
   "outputs": [
    {
     "name": "stdout",
     "output_type": "stream",
     "text": [
      "         const       SMB       HML    Mkt-RF\n",
      "TSLA  0.002423  0.007950 -0.008004  0.014486\n",
      "GM   -0.000307  0.006481  0.006755  0.012376\n",
      "F     0.000190  0.005983  0.006437  0.011730\n",
      "TM    0.000070  0.000227  0.001637  0.006535\n",
      "HMC   0.000010  0.001177  0.003114  0.007477\n"
     ]
    }
   ],
   "source": [
    "# Transpose betas_df to have stocks as rows and factors as columns\n",
    "transposed_betas_df = betas_df.transpose()\n",
    "\n",
    "# Drop the 'const' row as it's not needed for the second stage\n",
    "transposed_betas_df = transposed_betas_df.drop('const', errors='ignore')\n",
    "print(transposed_betas_df)"
   ]
  },
  {
   "cell_type": "code",
   "execution_count": 9,
   "id": "f68520b7",
   "metadata": {},
   "outputs": [
    {
     "name": "stdout",
     "output_type": "stream",
     "text": [
      "SMB   -0.002894\n",
      "HML   -0.000965\n",
      "dtype: float64\n"
     ]
    }
   ],
   "source": [
    "# Assuming 'merged_data' contains the daily returns for each stock and the Fama-French factors\n",
    "\n",
    "# Drop 'const' row from betas_df as it's not needed for the second stage\n",
    "daily_betas_df = transposed_betas_df.drop('const', errors='ignore')\n",
    "\n",
    "# Calculate daily excess returns for each stock\n",
    "excess_returns_daily = merged_data[['TSLA', 'GM', 'F', 'TM', 'HMC']].sub(merged_data['RF'], axis=0)\n",
    "\n",
    "# Initialize a DataFrame to hold the daily risk premia results\n",
    "daily_risk_premia = pd.DataFrame(columns=['SMB', 'HML'])\n",
    "\n",
    "# Perform the daily cross-sectional regression\n",
    "for date in excess_returns_daily.index:\n",
    "    # Get daily excess returns and betas\n",
    "    daily_returns = excess_returns_daily.loc[date]\n",
    "    daily_betas = daily_betas_df\n",
    "\n",
    "    # Prepare data for regression\n",
    "    X = sm.add_constant(daily_betas)  # Add a constant term\n",
    "    Y = daily_returns\n",
    "\n",
    "    # Perform the regression if there are no NaN values\n",
    "    if not Y.isna().any() and not X.isna().any().any():\n",
    "        model = sm.OLS(Y, X).fit()\n",
    "        # Save the risk premia for SMB and HML\n",
    "        daily_risk_premia.loc[date] = model.params[1:]  # Exclude the constant term\n",
    "\n",
    "# Calculate the average risk premia over the period\n",
    "average_daily_risk_premia = daily_risk_premia.mean()\n",
    "\n",
    "print(average_daily_risk_premia)"
   ]
  },
  {
   "cell_type": "code",
   "execution_count": 10,
   "id": "fa46808b",
   "metadata": {},
   "outputs": [
    {
     "name": "stdout",
     "output_type": "stream",
     "text": [
      "            TSLA        GM         F        TM       HMC\n",
      "const  -0.003525 -0.006255 -0.005757 -0.005878 -0.005938\n",
      "Mkt-RF  0.014589  0.012479  0.011833  0.006638  0.007580\n",
      "SMB     0.008264  0.006796  0.006298  0.000542  0.001492\n",
      "HML    -0.007796  0.006964  0.006645  0.001846  0.003322\n"
     ]
    }
   ],
   "source": [
    "# Calculate excess returns for each stock\n",
    "excess_returns_ff = merged_data[stocks].sub(merged_data['RF'], axis=0)\n",
    "\n",
    "# Perform Fama-French regression for each stock\n",
    "ff_model_results = {}\n",
    "for stock in stocks:\n",
    "    Y = excess_returns_ff[stock]\n",
    "    X = merged_data[['Mkt-RF', 'SMB', 'HML']]\n",
    "    X = sm.add_constant(X)  # Add a constant term to the regression\n",
    "\n",
    "    model = sm.OLS(Y, X, missing='drop').fit()  # Drop missing values\n",
    "    ff_model_results[stock] = model.params\n",
    "\n",
    "# Convert the results dictionary to a DataFrame\n",
    "ff_model_df = pd.DataFrame(ff_model_results)\n",
    "\n",
    "print(ff_model_df)"
   ]
  },
  {
   "cell_type": "code",
   "execution_count": null,
   "id": "4ba924a1",
   "metadata": {},
   "outputs": [],
   "source": []
  }
 ],
 "metadata": {
  "kernelspec": {
   "display_name": "Python 3 (ipykernel)",
   "language": "python",
   "name": "python3"
  },
  "language_info": {
   "codemirror_mode": {
    "name": "ipython",
    "version": 3
   },
   "file_extension": ".py",
   "mimetype": "text/x-python",
   "name": "python",
   "nbconvert_exporter": "python",
   "pygments_lexer": "ipython3",
   "version": "3.10.9"
  }
 },
 "nbformat": 4,
 "nbformat_minor": 5
}
